{
 "cells": [
  {
   "cell_type": "code",
   "execution_count": 3,
   "id": "102c3260",
   "metadata": {},
   "outputs": [],
   "source": [
    "from langchain_core.prompts import ChatPromptTemplate\n",
    "from langchain_community.tools.tavily_search import TavilySearchResults\n",
    "from langchain_community.vectorstores import FAISS\n",
    "from langchain_community.chat_message_histories import ChatMessageHistory\n",
    "from langchain.text_splitter import RecursiveCharacterTextSplitter\n",
    "from langchain_openai import OpenAIEmbeddings, ChatOpenAI\n",
    "from langchain.document_loaders import PyMuPDFLoader\n",
    "from langchain.tools.retriever import create_retriever_tool\n",
    "from langchain.agents import create_tool_calling_agent, AgentExecutor\n",
    "from langchain_core.runnables.history import RunnableWithMessageHistory"
   ]
  },
  {
   "cell_type": "markdown",
   "id": "c367898e",
   "metadata": {},
   "source": [
    "# 환경 설정"
   ]
  },
  {
   "cell_type": "code",
   "execution_count": 31,
   "id": "682636c4",
   "metadata": {},
   "outputs": [
    {
     "data": {
      "text/plain": [
       "True"
      ]
     },
     "execution_count": 31,
     "metadata": {},
     "output_type": "execute_result"
    }
   ],
   "source": [
    "# API 키를 환경변수로 관리하기 위한 설정 파일\n",
    "from dotenv import load_dotenv\n",
    "\n",
    "# API 키 정보 로드\n",
    "load_dotenv()"
   ]
  },
  {
   "cell_type": "markdown",
   "id": "cd18a11c",
   "metadata": {},
   "source": [
    "# Agent Message 함수"
   ]
  },
  {
   "cell_type": "code",
   "execution_count": 10,
   "id": "d2ade7b2",
   "metadata": {},
   "outputs": [],
   "source": [
    "from dataclasses import dataclass\n",
    "from typing import Any, Dict, List, Callable\n",
    "from langchain_core.agents import AgentAction, AgentFinish, AgentStep\n",
    "from langchain.agents.output_parsers.tools import ToolAgentAction"
   ]
  },
  {
   "cell_type": "code",
   "execution_count": 11,
   "id": "6b1443cd",
   "metadata": {},
   "outputs": [],
   "source": [
    "# 도구 호출 시 실행되는 콜백 함수입니다.\n",
    "def tool_callback(tool) -> None:\n",
    "    print(\"[도구 호출]\")\n",
    "    print(f\"Tool: {tool.get('tool')}\")  # 사용된 도구의 이름을 출력합니다.\n",
    "    if tool_input := tool.get(\"tool_input\"):  # 도구에 입력된 값이 있다면\n",
    "        for k, v in tool_input.items():\n",
    "            print(f\"{k}: {v}\")  # 입력값의 키와 값을 출력합니다.\n",
    "    print(f\"Log: {tool.get('log')}\")  # 도구 실행 로그를 출력합니다.\n",
    "\n",
    "\n",
    "# 관찰 결과를 출력하는 콜백 함수입니다.\n",
    "def observation_callback(observation) -> None:\n",
    "    print(\"[관찰 내용]\")\n",
    "    print(f\"Observation: {observation.get('observation')}\")  # 관찰 내용을 출력합니다.\n",
    "\n",
    "\n",
    "# 최종 결과를 출력하는 콜백 함수입니다.\n",
    "def result_callback(result: str) -> None:\n",
    "    print(\"[최종 답변]\")\n",
    "    print(result)  # 최종 답변을 출력합니다."
   ]
  },
  {
   "cell_type": "code",
   "execution_count": 12,
   "id": "7871a769",
   "metadata": {},
   "outputs": [],
   "source": [
    "@dataclass\n",
    "class AgentCallbacks:\n",
    "    \"\"\"\n",
    "    에이전트 콜백 함수들을 포함하는 데이터 클래스입니다.\n",
    "\n",
    "    Attributes:\n",
    "        tool_callback (Callable[[Dict[str, Any]], None]): 도구 사용 시 호출되는 콜백 함수\n",
    "        observation_callback (Callable[[Dict[str, Any]], None]): 관찰 결과 처리 시 호출되는 콜백 함수\n",
    "        result_callback (Callable[[str], None]): 최종 결과 처리 시 호출되는 콜백 함수\n",
    "    \"\"\"\n",
    "\n",
    "    tool_callback: Callable[[Dict[str, Any]], None] = tool_callback\n",
    "    observation_callback: Callable[[Dict[str, Any]], None] = observation_callback\n",
    "    result_callback: Callable[[str], None] = result_callback"
   ]
  },
  {
   "cell_type": "code",
   "execution_count": 13,
   "id": "796a75f8",
   "metadata": {},
   "outputs": [],
   "source": [
    "class AgentStreamParser:\n",
    "    \"\"\"\n",
    "    에이전트의 스트림 출력을 파싱하고 처리하는 클래스입니다.\n",
    "    \"\"\"\n",
    "\n",
    "    def __init__(self, callbacks: AgentCallbacks = AgentCallbacks()):\n",
    "        \"\"\"\n",
    "        AgentStreamParser 객체를 초기화합니다.\n",
    "\n",
    "        Args:\n",
    "            callbacks (AgentCallbacks, optional): 파싱 과정에서 사용할 콜백 함수들. 기본값은 AgentCallbacks()입니다.\n",
    "        \"\"\"\n",
    "        self.callbacks = callbacks\n",
    "        self.output = None\n",
    "\n",
    "    def process_agent_steps(self, step: Dict[str, Any]) -> None:\n",
    "        \"\"\"\n",
    "        에이전트의 단계를 처리합니다.\n",
    "\n",
    "        Args:\n",
    "            step (Dict[str, Any]): 처리할 에이전트 단계 정보\n",
    "        \"\"\"\n",
    "        if \"actions\" in step:\n",
    "            self._process_actions(step[\"actions\"])\n",
    "        elif \"steps\" in step:\n",
    "            self._process_observations(step[\"steps\"])\n",
    "        elif \"output\" in step:\n",
    "            self._process_result(step[\"output\"])\n",
    "\n",
    "    def _process_actions(self, actions: List[Any]) -> None:\n",
    "        \"\"\"\n",
    "        에이전트의 액션들을 처리합니다.\n",
    "\n",
    "        Args:\n",
    "            actions (List[Any]): 처리할 액션 리스트\n",
    "        \"\"\"\n",
    "        for action in actions:\n",
    "            if isinstance(action, (AgentAction, ToolAgentAction)) and hasattr(\n",
    "                action, \"tool\"\n",
    "            ):\n",
    "                self._process_tool_call(action)\n",
    "\n",
    "    def _process_tool_call(self, action: Any) -> None:\n",
    "        \"\"\"\n",
    "        도구 호출을 처리합니다.\n",
    "\n",
    "        Args:\n",
    "            action (Any): 처리할 도구 호출 액션\n",
    "        \"\"\"\n",
    "        tool_action = {\n",
    "            \"tool\": getattr(action, \"tool\", None),\n",
    "            \"tool_input\": getattr(action, \"tool_input\", None),\n",
    "            \"log\": getattr(action, \"log\", None),\n",
    "        }\n",
    "        self.callbacks.tool_callback(tool_action)\n",
    "\n",
    "    def _process_observations(self, observations: List[Any]) -> None:\n",
    "        \"\"\"\n",
    "        관찰 결과들을 처리합니다.\n",
    "\n",
    "        Args:\n",
    "            observations (List[Any]): 처리할 관찰 결과 리스트\n",
    "        \"\"\"\n",
    "        for observation in observations:\n",
    "            observation_dict = {}\n",
    "            if isinstance(observation, AgentStep):\n",
    "                observation_dict[\"observation\"] = getattr(\n",
    "                    observation, \"observation\", None\n",
    "                )\n",
    "            self.callbacks.observation_callback(observation_dict)\n",
    "\n",
    "    def _process_result(self, result: str) -> None:\n",
    "        \"\"\"\n",
    "        최종 결과를 처리합니다.\n",
    "\n",
    "        Args:\n",
    "            result (str): 처리할 최종 결과\n",
    "        \"\"\"\n",
    "        self.callbacks.result_callback(result)\n",
    "        self.output = result"
   ]
  },
  {
   "cell_type": "markdown",
   "id": "60840d3c",
   "metadata": {},
   "source": [
    "# 도구 정의"
   ]
  },
  {
   "cell_type": "code",
   "execution_count": 32,
   "id": "570641dd",
   "metadata": {},
   "outputs": [],
   "source": [
    "### 1-1. Search 도구 ###\n",
    "# TavilySearchResults 클래스의 인스턴스를 생성합니다\n",
    "# k=6은 검색 결과를 6개까지 가져오겠다는 의미입니다\n",
    "search = TavilySearchResults(k=6)"
   ]
  },
  {
   "cell_type": "code",
   "execution_count": 17,
   "id": "37340d45",
   "metadata": {},
   "outputs": [],
   "source": [
    "import pickle\n",
    "import os\n",
    "\n",
    "def load_documents_from_pkl(filepath):\n",
    "    \"\"\"\n",
    "    Pickle 파일에서 Langchain Document 리스트를 불러오는 함수\n",
    "\n",
    "    Args:\n",
    "        filepath: 원본 파일 경로 (예: path/to/filename.pdf)\n",
    "    Returns:\n",
    "        Langchain Document 객체 리스트\n",
    "    \"\"\"\n",
    "    # 확장자 제거하고 절대 경로로 변환\n",
    "    abs_path = os.path.abspath(filepath)\n",
    "    base_path = os.path.splitext(abs_path)[0]\n",
    "    pkl_path = f\"{base_path}.pkl\"\n",
    "\n",
    "    with open(pkl_path, \"rb\") as f:\n",
    "        documents = pickle.load(f)\n",
    "    return documents"
   ]
  },
  {
   "cell_type": "code",
   "execution_count": 18,
   "id": "b6d66d91",
   "metadata": {},
   "outputs": [
    {
     "name": "stdout",
     "output_type": "stream",
     "text": [
      "📄 /root/Project/aayn/teddynote-parser-api-client/example/parsing_outputs/84955c6c-9975-47cd-a4af-b9da78d548a5/84955c6c-9975-47cd-a4af-b9da78d548a5/84955c6c-9975-47cd-a4af-b9da78d548a5_RetirementPensionSubscriberTraining.pkl 파일 로드 중...\n",
      "✅ 총 40개의 문서가 로드되었습니다.\n"
     ]
    }
   ],
   "source": [
    "import glob\n",
    "from pathlib import Path\n",
    "\n",
    "# extract_path 디렉토리에서 모든 .pkl 파일 찾기\n",
    "extract_path = \"/root/Project/aayn/teddynote-parser-api-client/example/parsing_outputs/84955c6c-9975-47cd-a4af-b9da78d548a5\"\n",
    "pkl_files = glob.glob(str(Path(extract_path) / \"*\" / \"*.pkl\"))\n",
    "\n",
    "if not pkl_files:\n",
    "    print(\"❌ extract_path에서 .pkl 파일을 찾을 수 없습니다.\")\n",
    "else:\n",
    "    # 모든 .pkl 파일에서 문서 로드\n",
    "    all_documents = []\n",
    "    for pkl_file in pkl_files:\n",
    "        print(f\"📄 {pkl_file} 파일 로드 중...\")  # 한국어 코멘트\n",
    "        documents = load_documents_from_pkl(pkl_file)\n",
    "        all_documents.extend(documents)\n",
    "\n",
    "    print(f\"✅ 총 {len(all_documents)}개의 문서가 로드되었습니다.\")"
   ]
  },
  {
   "cell_type": "code",
   "execution_count": 20,
   "id": "cfef7ae1",
   "metadata": {},
   "outputs": [
    {
     "name": "stdout",
     "output_type": "stream",
     "text": [
      "✅ 총 15개의 문서가 로드되었습니다.\n"
     ]
    }
   ],
   "source": [
    "### 1-2. PDF 문서 검색 도구 (Retriever) ###\n",
    "# PDF 파일 로드. 파일의 경로 입력\n",
    "loader = PyMuPDFLoader(\"/root/Project/aayn/pdf/RetirementPensionSubscriberTraining.pdf\")\n",
    "\n",
    "# 텍스트 분할기를 사용하여 문서를 분할합니다.\n",
    "text_splitter = RecursiveCharacterTextSplitter(chunk_size=1000, chunk_overlap=100)\n",
    "\n",
    "# 문서를 로드하고 분할합니다.\n",
    "split_docs = loader.load_and_split(text_splitter)\n",
    "print(f\"✅ 총 {len(split_docs)}개의 문서가 로드되었습니다.\")"
   ]
  },
  {
   "cell_type": "code",
   "execution_count": 27,
   "id": "eac57590",
   "metadata": {},
   "outputs": [],
   "source": [
    "# VectorStore를 생성합니다.\n",
    "vector = FAISS.from_documents(all_documents, OpenAIEmbeddings())\n",
    "\n",
    "# Retriever를 생성합니다.\n",
    "retriever = vector.as_retriever()\n",
    "\n",
    "retriever_tool = create_retriever_tool(\n",
    "    retriever,\n",
    "    name=\"pdf_search\",  # 도구의 이름을 입력합니다.\n",
    "    description=\"use this tool to search information from the PDF document\",  # 도구에 대한 설명을 자세히 기입해야 합니다!!\n",
    ")"
   ]
  },
  {
   "cell_type": "code",
   "execution_count": 33,
   "id": "a01cad19",
   "metadata": {},
   "outputs": [],
   "source": [
    "### 1-3. tools 리스트에 도구 목록을 추가합니다 ###\n",
    "# tools 리스트에 search와 retriever_tool을 추가합니다.\n",
    "tools = [retriever_tool]\n",
    "\n",
    "########## 2. LLM 을 정의합니다 ##########\n",
    "# LLM 모델을 생성합니다.\n",
    "llm = ChatOpenAI(model=\"gpt-4o\", temperature=0)\n",
    "\n",
    "########## 3. Prompt 를 정의합니다 ##########\n",
    "\n",
    "# Prompt 를 정의합니다 - 이 부분을 수정할 수 있습니다!\n",
    "# Prompt 정의\n",
    "prompt = ChatPromptTemplate.from_messages(\n",
    "    [\n",
    "        (\n",
    "            \"system\",\n",
    "            \"You are a helpful assistant. \"\n",
    "            \"Make sure to use the `pdf_search` tool for searching information from the PDF document. \"\n",
    "            \"If you can't find the information from the PDF document, use the `search` tool for searching information from the web.\",\n",
    "        ),\n",
    "        (\"placeholder\", \"{chat_history}\"),\n",
    "        (\"human\", \"{input}\"),\n",
    "        (\"placeholder\", \"{agent_scratchpad}\"),\n",
    "    ]\n",
    ")"
   ]
  },
  {
   "cell_type": "markdown",
   "id": "26f5dded",
   "metadata": {},
   "source": [
    "# Agent 정의"
   ]
  },
  {
   "cell_type": "code",
   "execution_count": 34,
   "id": "30175a76",
   "metadata": {},
   "outputs": [],
   "source": [
    "########## 4. Agent 를 정의합니다 ##########\n",
    "\n",
    "# 에이전트를 생성합니다.\n",
    "# llm, tools, prompt를 인자로 사용합니다.\n",
    "agent = create_tool_calling_agent(llm, tools, prompt)\n",
    "\n",
    "########## 5. AgentExecutor 를 정의합니다 ##########\n",
    "\n",
    "# AgentExecutor 클래스를 사용하여 agent와 tools를 설정하고, 상세한 로그를 출력하도록 verbose를 True로 설정합니다.\n",
    "agent_executor = AgentExecutor(agent=agent, tools=tools, verbose=False)\n",
    "\n",
    "########## 6. 채팅 기록을 수행하는 메모리를 추가합니다. ##########\n",
    "\n",
    "# session_id 를 저장할 딕셔너리 생성\n",
    "store = {}\n",
    "\n",
    "\n",
    "# session_id 를 기반으로 세션 기록을 가져오는 함수\n",
    "def get_session_history(session_ids):\n",
    "    if session_ids not in store:  # session_id 가 store에 없는 경우\n",
    "        # 새로운 ChatMessageHistory 객체를 생성하여 store에 저장\n",
    "        store[session_ids] = ChatMessageHistory()\n",
    "    return store[session_ids]  # 해당 세션 ID에 대한 세션 기록 반환\n",
    "\n",
    "\n",
    "# 채팅 메시지 기록이 추가된 에이전트를 생성합니다.\n",
    "agent_with_chat_history = RunnableWithMessageHistory(\n",
    "    agent_executor,\n",
    "    # 대화 session_id\n",
    "    get_session_history,\n",
    "    # 프롬프트의 질문이 입력되는 key: \"input\"\n",
    "    input_messages_key=\"input\",\n",
    "    # 프롬프트의 메시지가 입력되는 key: \"chat_history\"\n",
    "    history_messages_key=\"chat_history\",\n",
    ")\n"
   ]
  },
  {
   "cell_type": "code",
   "execution_count": 35,
   "id": "fa114e5a",
   "metadata": {},
   "outputs": [],
   "source": [
    "########## 7. Agent 파서를 정의합니다. ##########\n",
    "agent_stream_parser = AgentStreamParser()"
   ]
  },
  {
   "cell_type": "code",
   "execution_count": 36,
   "id": "7180a7f5",
   "metadata": {},
   "outputs": [
    {
     "name": "stdout",
     "output_type": "stream",
     "text": [
      "[도구 호출]\n",
      "Tool: pdf_search\n",
      "query: 개인형퇴직연금\n",
      "Log: \n",
      "Invoking: `pdf_search` with `{'query': '개인형퇴직연금'}`\n",
      "\n",
      "\n",
      "\n",
      "[관찰 내용]\n",
      "Observation: 퇴직연금\n",
      "가입자 교육\n",
      "\n",
      "# 연금수령 시 일시금 수령보다 세금이 30% 감액됩니다.\n",
      "# 퇴직급여의 개인형퇴직연금(IRP) 이전 효과\n",
      "# • IRP의 3가지 효과\n",
      "참고 개인형퇴직연금제도 연간 납입액 한도와 세액공제\n",
      "▶ 근로자가 본인 희망 시 자신의 비용 부담으로 연간 1,800만원까지(연금저축, DC, IRP 합산) 추가 납입할 수 있으며,\n",
      "총 700만원 한도에서 세액공제를 받을 수 있습니다.\n",
      "※ 50세 이상인 가입자는 연간 900만원(2020년 ~ 2022년 3년간 한시 적용)\n",
      "총 700만원 한도\n",
      "연금계좌 세액공제율 (지방소득세 포함)\n",
      "연 400만원(퇴직연금 + 연금저축)\n",
      "연 300만원(퇴직연금에 한해 추가)\n",
      "총 급여액 5천 5백만원 이하 : 16.5%\n",
      "총 급여액 5천 5백만원 초과 : 13.2%\n",
      "▶ 세액공제대상 한도\n",
      "\n",
      "# 개인형퇴직연금(IRP) 적립금 운용\n",
      "• 퇴직연금사업자가 제공하는 운용상품 중 가입자의 투자 성향에 맞는 상품으로 포트폴리오를 구성하여 적립금을 운용\n",
      "할 수 있습니다.\n",
      "참고\n",
      "# 개인형 퇴직연금(IRP) 운용형태\n",
      "① 원리금보장형\n",
      "- 금융회사에서 원금과 이자를 보장하는 상품\n",
      "- 예금자보호 가능\n",
      "② 실적배당형\n",
      "- 국내외 주식 및 채권에 투자하여 운용을 하고, 그 운용수익을 투자자에 배당\n",
      "- 운용성과에 따라 원금의 손실이 발생할 수 있는 상품\n",
      "- 예금자 보호 대상 아님\n",
      "# 퇴직연금 과세체계\n",
      "• 연금계좌에서 적립금을 수령하는 경우 소득 원천(퇴직급여, 가입자추가부담금 및 운용수익)과 수령 방법(일시금과\n",
      "연금 수령)에 따라 과세를 다음과 같이 적용하고 있습니다.\n",
      "※ 지방소득세 포함\n",
      "주1) 연금수령\n",
      "·55세 이후에 5년 이상의 기간 동안 받는 금액 중 연금수령한도 이내의 금액\n",
      "\n",
      "# 참고 기업형IRP(10인 미만 특례제도)\n",
      "▶ 근로자 10인 미만 기업에 한해 개별 근로자의 동의를 받거나 근로자의 요구에 따라 개인형퇴직연금제도를 설정하는 경우\n",
      "규약 작성없이 퇴직연금제도를 도입한 것으로 인정해주는 특례 제도로 10인 이상이 되면 1년 이내 다른 퇴직연금제도(공단\n",
      "DC형 제도)로 전환하여야 하며, 퇴직 시 개인형 IRP계좌를 개설하여야 합니다.\n",
      "# 퇴직연금제도별 특징 및 차이점\n",
      "# 급여 또는 부담금 산정의 기준이 되는 임금\n",
      "※ 평균임금과 임금총액은 근로기준법상 임금에 해당하는 항목을 산입하나, 사업장의 임금지급 실태 등에 따라 구체적인 산정방식은 달라질\n",
      "있습니다.\n",
      "[최종 답변]\n",
      "문서에서 개인형퇴직연금(IRP)에 대한 내용은 다음과 같습니다:\n",
      "\n",
      "1. **개인형퇴직연금제도 연간 납입액 한도와 세액공제**:\n",
      "   - 근로자가 본인 희망 시 자신의 비용 부담으로 연간 1,800만원까지(연금저축, DC, IRP 합산) 추가 납입할 수 있으며, 총 700만원 한도에서 세액공제를 받을 수 있습니다.\n",
      "   - 50세 이상인 가입자는 연간 900만원(2020년 ~ 2022년 3년간 한시 적용)까지 가능합니다.\n",
      "   - 세액공제율은 총 급여액에 따라 다르며, 5천 5백만원 이하일 경우 16.5%, 초과할 경우 13.2%입니다.\n",
      "\n",
      "2. **개인형퇴직연금(IRP) 적립금 운용**:\n",
      "   - 퇴직연금사업자가 제공하는 운용상품 중 가입자의 투자 성향에 맞는 상품으로 포트폴리오를 구성하여 적립금을 운용할 수 있습니다.\n",
      "   - 운용형태는 원리금보장형과 실적배당형으로 나뉩니다.\n",
      "     - 원리금보장형은 금융회사에서 원금과 이자를 보장하는 상품으로 예금자보호가 가능합니다.\n",
      "     - 실적배당형은 국내외 주식 및 채권에 투자하여 운용하며, 운용성과에 따라 원금의 손실이 발생할 수 있는 상품으로 예금자 보호 대상이 아닙니다.\n",
      "\n",
      "3. **퇴직연금 과세체계**:\n",
      "   - 연금계좌에서 적립금을 수령하는 경우 소득 원천(퇴직급여, 가입자추가부담금 및 운용수익)과 수령 방법(일시금과 연금 수령)에 따라 과세가 적용됩니다.\n",
      "   - 연금수령은 55세 이후에 5년 이상의 기간 동안 받는 금액 중 연금수령한도 이내의 금액에 대해 적용됩니다.\n",
      "\n",
      "4. **기업형IRP(10인 미만 특례제도)**:\n",
      "   - 근로자 10인 미만 기업에 한해 개별 근로자의 동의를 받거나 근로자의 요구에 따라 개인형퇴직연금제도를 설정하는 경우 규약 작성 없이 퇴직연금제도를 도입한 것으로 인정해주는 특례 제도입니다. 10인 이상이 되면 1년 이내 다른 퇴직연금제도로 전환하여야 하며, 퇴직 시 개인형 IRP계좌를 개설하여야 합니다.\n"
     ]
    }
   ],
   "source": [
    "########## 8. 에이전트를 실행하고 결과를 확인합니다. ##########\n",
    "\n",
    "# 질의에 대한 답변을 출력합니다.\n",
    "response = agent_with_chat_history.stream(\n",
    "    {\"input\": \"퇴직연금제도의 개인형퇴직연금 관련 내용을 문서에서 찾아줘\"},\n",
    "    # 세션 ID를 설정합니다.\n",
    "    # 여기서는 간단한 메모리 내 ChatMessageHistory를 사용하기 때문에 실제로 사용되지 않습니다\n",
    "    config={\"configurable\": {\"session_id\": \"abc123\"}},\n",
    ")\n",
    "\n",
    "for step in response:\n",
    "    agent_stream_parser.process_agent_steps(step)"
   ]
  }
 ],
 "metadata": {
  "kernelspec": {
   "display_name": ".venv",
   "language": "python",
   "name": "python3"
  },
  "language_info": {
   "codemirror_mode": {
    "name": "ipython",
    "version": 3
   },
   "file_extension": ".py",
   "mimetype": "text/x-python",
   "name": "python",
   "nbconvert_exporter": "python",
   "pygments_lexer": "ipython3",
   "version": "3.10.16"
  }
 },
 "nbformat": 4,
 "nbformat_minor": 5
}
